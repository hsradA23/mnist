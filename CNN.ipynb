{
 "cells": [
  {
   "cell_type": "code",
   "execution_count": 1,
   "metadata": {},
   "outputs": [],
   "source": [
    "import torch\n",
    "from torch import nn\n",
    "from torch.utils.data import DataLoader\n",
    "from torchvision.datasets import MNIST\n",
    "from torchvision import transforms\n",
    "from torch.nn.functional import one_hot\n",
    "from matplotlib import pyplot as plt"
   ]
  },
  {
   "cell_type": "code",
   "execution_count": 2,
   "metadata": {},
   "outputs": [],
   "source": [
    "class Classifier(nn.Module):\n",
    "    def __init__(self):\n",
    "        super(Classifier, self).__init__()\n",
    "\n",
    "        self.clf = nn.Sequential(\n",
    "            nn.Conv2d(in_channels=1,out_channels=32,kernel_size=6, bias=False), # 28-4+1 = 25\n",
    "            nn.BatchNorm2d(num_features=32),\n",
    "            nn.Conv2d(in_channels=32,out_channels=16,kernel_size=5, bias=False), #25-4+1 = 22\n",
    "            nn.BatchNorm2d(num_features=16),\n",
    "            nn.Conv2d(in_channels=16,out_channels=8,kernel_size=4, bias=False),\n",
    "            nn.BatchNorm2d(num_features=8),\n",
    "            nn.Flatten(),\n",
    "            nn.Linear(2048,1024),\n",
    "            nn.LeakyReLU(0.2),\n",
    "            nn.Linear(1024,512),\n",
    "            nn.LeakyReLU(0.2),\n",
    "            nn.Linear(512,10),     \n",
    "        )\n",
    "\n",
    "    def forward(self, x):\n",
    "        return self.clf(x)"
   ]
  },
  {
   "cell_type": "code",
   "execution_count": 3,
   "metadata": {},
   "outputs": [],
   "source": [
    "dataloader = DataLoader(\n",
    "    MNIST('../Python/', download=False, train=True,transform=transforms.Compose([\n",
    "        transforms.ToTensor(),\n",
    "        transforms.RandomAffine(degrees=(-10,10),translate=(0.1,0.1))\n",
    "    ])),\n",
    "     batch_size=64,\n",
    "    shuffle=True)"
   ]
  },
  {
   "cell_type": "code",
   "execution_count": 4,
   "metadata": {},
   "outputs": [],
   "source": [
    "criterion = torch.nn.CrossEntropyLoss()\n",
    "clf = Classifier()\n",
    "optim = torch.optim.Adam(clf.parameters())"
   ]
  },
  {
   "cell_type": "code",
   "execution_count": 5,
   "metadata": {},
   "outputs": [
    {
     "name": "stdout",
     "output_type": "stream",
     "text": [
      "tensor(0.4766)\n",
      "tensor(0.2776)\n",
      "tensor(0.2155)\n",
      "tensor(0.1918)\n",
      "tensor(0.1676)\n"
     ]
    }
   ],
   "source": [
    "for e in range(5):\n",
    "    lossmean = []\n",
    "    for _, (x,y) in enumerate(dataloader):\n",
    "        pred = clf(x)\n",
    "\n",
    "        loss = criterion(pred,one_hot(y,num_classes=10).float() )\n",
    "        \n",
    "        optim.zero_grad()\n",
    "        loss.backward()\n",
    "        optim.step()\n",
    "\n",
    "        lossmean.append(loss.item())\n",
    "    \n",
    "    print(torch.mean(torch.FloatTensor(lossmean)))\n"
   ]
  },
  {
   "cell_type": "code",
   "execution_count": 6,
   "metadata": {},
   "outputs": [],
   "source": [
    "test_data =  DataLoader(\n",
    "    MNIST('../Python/', download=False, train=False,transform=transforms.ToTensor()),\n",
    "     batch_size=64,\n",
    "    shuffle=False)"
   ]
  },
  {
   "cell_type": "code",
   "execution_count": 7,
   "metadata": {},
   "outputs": [
    {
     "name": "stdout",
     "output_type": "stream",
     "text": [
      "0.9715\n"
     ]
    },
    {
     "data": {
      "text/plain": [
       "Classifier(\n",
       "  (clf): Sequential(\n",
       "    (0): Conv2d(1, 32, kernel_size=(6, 6), stride=(1, 1), bias=False)\n",
       "    (1): BatchNorm2d(32, eps=1e-05, momentum=0.1, affine=True, track_running_stats=True)\n",
       "    (2): Conv2d(32, 16, kernel_size=(5, 5), stride=(1, 1), bias=False)\n",
       "    (3): BatchNorm2d(16, eps=1e-05, momentum=0.1, affine=True, track_running_stats=True)\n",
       "    (4): Conv2d(16, 8, kernel_size=(4, 4), stride=(1, 1), bias=False)\n",
       "    (5): BatchNorm2d(8, eps=1e-05, momentum=0.1, affine=True, track_running_stats=True)\n",
       "    (6): Flatten(start_dim=1, end_dim=-1)\n",
       "    (7): Linear(in_features=2048, out_features=1024, bias=True)\n",
       "    (8): LeakyReLU(negative_slope=0.2)\n",
       "    (9): Linear(in_features=1024, out_features=512, bias=True)\n",
       "    (10): LeakyReLU(negative_slope=0.2)\n",
       "    (11): Linear(in_features=512, out_features=10, bias=True)\n",
       "  )\n",
       ")"
      ]
     },
     "execution_count": 7,
     "metadata": {},
     "output_type": "execute_result"
    }
   ],
   "source": [
    "clf.eval()\n",
    "with torch.no_grad():\n",
    "    sum = 0\n",
    "    samples = 0\n",
    "    for _,(x,y) in enumerate(test_data):\n",
    "        p = clf(x)\n",
    "        sum += torch.sum(torch.argmax(p, dim=1) == y).item()\n",
    "        samples += y.size(0)\n",
    "        \n",
    "\n",
    "    print(sum/samples)\n",
    "clf.train()"
   ]
  },
  {
   "cell_type": "code",
   "execution_count": 8,
   "metadata": {},
   "outputs": [],
   "source": [
    "torch.save(clf.state_dict(), 'modelAugmented.pt')"
   ]
  },
  {
   "cell_type": "code",
   "execution_count": null,
   "metadata": {},
   "outputs": [],
   "source": []
  }
 ],
 "metadata": {
  "kernelspec": {
   "display_name": "ai",
   "language": "python",
   "name": "python3"
  },
  "language_info": {
   "codemirror_mode": {
    "name": "ipython",
    "version": 3
   },
   "file_extension": ".py",
   "mimetype": "text/x-python",
   "name": "python",
   "nbconvert_exporter": "python",
   "pygments_lexer": "ipython3",
   "version": "3.10.10"
  },
  "orig_nbformat": 4
 },
 "nbformat": 4,
 "nbformat_minor": 2
}
